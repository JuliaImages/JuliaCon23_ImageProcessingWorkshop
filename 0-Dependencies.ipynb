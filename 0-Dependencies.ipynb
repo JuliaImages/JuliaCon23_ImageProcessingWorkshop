{
 "cells": [
  {
   "cell_type": "code",
   "execution_count": 2,
   "id": "76a9cd36-c3a7-42e3-b10a-9041439b608c",
   "metadata": {
    "tags": []
   },
   "outputs": [],
   "source": [
    "using Pkg"
   ]
  },
  {
   "cell_type": "code",
   "execution_count": 3,
   "id": "5ac21761-ae96-41ca-9416-b47aa6510a96",
   "metadata": {
    "tags": []
   },
   "outputs": [
    {
     "name": "stderr",
     "output_type": "stream",
     "text": [
      "\u001b[32m\u001b[1m  Activating\u001b[22m\u001b[39m project at `C:\\Users\\lenono\\Documents\\StudyCode\\JuliaCon23_ImageProcessingWorkshop`\n"
     ]
    }
   ],
   "source": [
    "Pkg.activate(\".\")"
   ]
  },
  {
   "cell_type": "code",
   "execution_count": null,
   "id": "f7a52ba4-2cb2-40e7-94f0-78b7cd4033eb",
   "metadata": {},
   "outputs": [],
   "source": [
    "Pkg.add(\"FileIO\")"
   ]
  },
  {
   "cell_type": "code",
   "execution_count": 4,
   "id": "df4f6d80-7a0f-4a12-8817-8599d62838ff",
   "metadata": {
    "tags": []
   },
   "outputs": [
    {
     "name": "stderr",
     "output_type": "stream",
     "text": [
      "\u001b[32m\u001b[1m   Resolving\u001b[22m\u001b[39m package versions...\n",
      "\u001b[32m\u001b[1m    Updating\u001b[22m\u001b[39m `C:\\Users\\lenono\\Documents\\StudyCode\\JuliaCon23_ImageProcessingWorkshop\\Project.toml`\n",
      "  \u001b[90m[5789e2e9] \u001b[39m\u001b[92m+ FileIO v1.16.1\u001b[39m\n",
      "\u001b[32m\u001b[1m  No Changes\u001b[22m\u001b[39m to `C:\\Users\\lenono\\Documents\\StudyCode\\JuliaCon23_ImageProcessingWorkshop\\Manifest.toml`\n"
     ]
    }
   ],
   "source": [
    "Pkg.add(\"FileIO\")"
   ]
  },
  {
   "cell_type": "code",
   "execution_count": 5,
   "id": "373cc59d-a4db-4311-841b-a0707f584277",
   "metadata": {
    "tags": []
   },
   "outputs": [
    {
     "name": "stderr",
     "output_type": "stream",
     "text": [
      "\u001b[32m\u001b[1m   Resolving\u001b[22m\u001b[39m package versions...\n",
      "\u001b[32m\u001b[1m   Installed\u001b[22m\u001b[39m Giflib_jll ────── v5.2.1+0\n",
      "\u001b[32m\u001b[1m   Installed\u001b[22m\u001b[39m libgifextra_jll ─ v0.0.1+0\n",
      "\u001b[32m\u001b[1m   Installed\u001b[22m\u001b[39m GIFImages ─────── v0.1.0\n",
      "\u001b[32m\u001b[1m    Updating\u001b[22m\u001b[39m `C:\\Users\\lenono\\Documents\\StudyCode\\JuliaCon23_ImageProcessingWorkshop\\Project.toml`\n",
      "  \u001b[90m[7064036c] \u001b[39m\u001b[92m+ GIFImages v0.1.0\u001b[39m\n",
      "\u001b[32m\u001b[1m    Updating\u001b[22m\u001b[39m `C:\\Users\\lenono\\Documents\\StudyCode\\JuliaCon23_ImageProcessingWorkshop\\Manifest.toml`\n",
      "  \u001b[90m[7064036c] \u001b[39m\u001b[92m+ GIFImages v0.1.0\u001b[39m\n",
      "\u001b[33m⌅\u001b[39m \u001b[90m[2913bbd2] \u001b[39m\u001b[95m↓ StatsBase v0.34.0 ⇒ v0.33.21\u001b[39m\n",
      "  \u001b[90m[59f7168a] \u001b[39m\u001b[92m+ Giflib_jll v5.2.1+0\u001b[39m\n",
      "  \u001b[90m[d7c3d077] \u001b[39m\u001b[92m+ libgifextra_jll v0.0.1+0\u001b[39m\n",
      "\u001b[36m\u001b[1m        Info\u001b[22m\u001b[39m Packages marked with \u001b[33m⌅\u001b[39m have new versions available but compatibility constraints restrict them from upgrading. To see why use `status --outdated -m`\n",
      "\u001b[32m\u001b[1mPrecompiling\u001b[22m\u001b[39m project...\n",
      "\u001b[32m  ✓ \u001b[39m\u001b[90mGiflib_jll\u001b[39m\n",
      "\u001b[32m  ✓ \u001b[39m\u001b[90mlibgifextra_jll\u001b[39m\n",
      "\u001b[32m  ✓ \u001b[39m\u001b[90mClustering\u001b[39m\n",
      "\u001b[91m  ✗ \u001b[39mGIFImages\n",
      "\u001b[32m  ✓ \u001b[39m\u001b[90mImageSegmentation\u001b[39m\n",
      "\u001b[32m  ✓ \u001b[39mImages\n",
      "  5 dependencies successfully precompiled in 27 seconds. 133 already precompiled.\n",
      "  \u001b[91m1\u001b[39m dependency errored. To see a full report either run `import Pkg; Pkg.precompile()` or load the package\n"
     ]
    }
   ],
   "source": [
    "Pkg.add(\"GIFImages\")"
   ]
  },
  {
   "cell_type": "code",
   "execution_count": null,
   "id": "af4d3da8-2851-467f-8572-0b169600a701",
   "metadata": {},
   "outputs": [],
   "source": [
    "Pkg.add(\"GIFImages\")"
   ]
  }
 ],
 "metadata": {
  "kernelspec": {
   "display_name": "Julia 1.9.0-beta4",
   "language": "julia",
   "name": "julia-1.9"
  },
  "language_info": {
   "file_extension": ".jl",
   "mimetype": "application/julia",
   "name": "julia",
   "version": "1.9.1"
  }
 },
 "nbformat": 4,
 "nbformat_minor": 5
}
