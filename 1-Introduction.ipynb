{
 "cells": [
  {
   "cell_type": "markdown",
   "id": "d0d13f6e-9dbc-4788-ae52-37546fd856c7",
   "metadata": {
    "tags": []
   },
   "source": [
    "# Image Processing with Images.jl Workshop\n",
    "\n",
    "The objective of this workshop is to give exposure for using various digital image processing methods in Julia. JuliaImages hosts the major Julia packages for image processing in which Images.jl provides access to various algorithms acting as the umbrella package. The applications of Image processing are found in areas such as machine vision, biomedical image processing and remote sensing. This workshop will help the Julia enthusiasts/scholars to get trained in Julia based image processing ."
   ]
  },
  {
   "cell_type": "markdown",
   "id": "066039cc-934e-4194-b474-7ad09b493980",
   "metadata": {
    "tags": []
   },
   "source": [
    "##### Code for this workshop can be found here: https://github.com/ashwani-rathee/JuliaCon23_ImageProcessingWorkshop"
   ]
  },
  {
   "cell_type": "markdown",
   "id": "f490c617-8e17-48fb-8c24-8cff38a3ca29",
   "metadata": {
    "tags": []
   },
   "source": [
    "# Introduction"
   ]
  },
  {
   "cell_type": "code",
   "execution_count": 8,
   "id": "98175307-ae86-4879-b2e6-2cad3a1bf9d3",
   "metadata": {
    "tags": []
   },
   "outputs": [],
   "source": [
    "using Pkg"
   ]
  },
  {
   "cell_type": "code",
   "execution_count": 3,
   "id": "ea256992-e9c9-4735-a9e2-2555a88c5648",
   "metadata": {
    "tags": []
   },
   "outputs": [
    {
     "name": "stderr",
     "output_type": "stream",
     "text": [
      "\u001b[32m\u001b[1m  Activating\u001b[22m\u001b[39m new project at `C:\\Users\\lenono\\Documents\\JuliaCon23_ImageProcessingWorkshop`\n"
     ]
    }
   ],
   "source": [
    "Pkg.activate(\".\")"
   ]
  },
  {
   "cell_type": "code",
   "execution_count": 4,
   "id": "05044b10-456b-4c6e-825e-2a01a9d10b5b",
   "metadata": {
    "tags": []
   },
   "outputs": [
    {
     "name": "stderr",
     "output_type": "stream",
     "text": [
      "\u001b[32m\u001b[1m    Updating\u001b[22m\u001b[39m registry at `C:\\Users\\lenono\\.julia\\registries\\General.toml`\n",
      "\u001b[32m\u001b[1m   Resolving\u001b[22m\u001b[39m package versions...\n",
      "\u001b[32m\u001b[1m   Installed\u001b[22m\u001b[39m Images ────────── v0.25.3\n",
      "\u001b[32m\u001b[1m   Installed\u001b[22m\u001b[39m ImageMagick_jll ─ v6.9.12+4\n",
      "\u001b[32m\u001b[1m   Installed\u001b[22m\u001b[39m JLD2 ──────────── v0.4.32\n",
      "\u001b[32m\u001b[1m   Installed\u001b[22m\u001b[39m StaticArrays ──── v1.6.1\n",
      "\u001b[32m\u001b[1m    Updating\u001b[22m\u001b[39m `C:\\Users\\lenono\\Documents\\JuliaCon23_ImageProcessingWorkshop\\Project.toml`\n",
      "  \u001b[90m[916415d5] \u001b[39m\u001b[92m+ Images v0.25.3\u001b[39m\n",
      "\u001b[32m\u001b[1m    Updating\u001b[22m\u001b[39m `C:\\Users\\lenono\\Documents\\JuliaCon23_ImageProcessingWorkshop\\Manifest.toml`\n",
      "  \u001b[90m[621f4979] \u001b[39m\u001b[92m+ AbstractFFTs v1.4.0\u001b[39m\n",
      "  \u001b[90m[79e6a3ab] \u001b[39m\u001b[92m+ Adapt v3.6.2\u001b[39m\n",
      "  \u001b[90m[ec485272] \u001b[39m\u001b[92m+ ArnoldiMethod v0.2.0\u001b[39m\n",
      "  \u001b[90m[13072b0f] \u001b[39m\u001b[92m+ AxisAlgorithms v1.0.1\u001b[39m\n",
      "  \u001b[90m[39de3d68] \u001b[39m\u001b[92m+ AxisArrays v0.4.6\u001b[39m\n",
      "  \u001b[90m[fa961155] \u001b[39m\u001b[92m+ CEnum v0.4.2\u001b[39m\n",
      "  \u001b[90m[aafaddc9] \u001b[39m\u001b[92m+ CatIndices v0.2.2\u001b[39m\n",
      "  \u001b[90m[d360d2e6] \u001b[39m\u001b[92m+ ChainRulesCore v1.16.0\u001b[39m\n",
      "  \u001b[90m[aaaa29a8] \u001b[39m\u001b[92m+ Clustering v0.15.3\u001b[39m\n",
      "  \u001b[90m[35d6a980] \u001b[39m\u001b[92m+ ColorSchemes v3.21.0\u001b[39m\n",
      "  \u001b[90m[3da002f7] \u001b[39m\u001b[92m+ ColorTypes v0.11.4\u001b[39m\n",
      "  \u001b[90m[c3611d14] \u001b[39m\u001b[92m+ ColorVectorSpace v0.9.10\u001b[39m\n",
      "  \u001b[90m[5ae59095] \u001b[39m\u001b[92m+ Colors v0.12.10\u001b[39m\n",
      "  \u001b[90m[34da2185] \u001b[39m\u001b[92m+ Compat v4.7.0\u001b[39m\n",
      "  \u001b[90m[ed09eef8] \u001b[39m\u001b[92m+ ComputationalResources v0.3.2\u001b[39m\n",
      "  \u001b[90m[150eb455] \u001b[39m\u001b[92m+ CoordinateTransformations v0.6.3\u001b[39m\n",
      "  \u001b[90m[dc8bdbbb] \u001b[39m\u001b[92m+ CustomUnitRanges v1.0.2\u001b[39m\n",
      "  \u001b[90m[9a962f9c] \u001b[39m\u001b[92m+ DataAPI v1.15.0\u001b[39m\n",
      "  \u001b[90m[864edb3b] \u001b[39m\u001b[92m+ DataStructures v0.18.14\u001b[39m\n",
      "  \u001b[90m[b4f34e82] \u001b[39m\u001b[92m+ Distances v0.10.8\u001b[39m\n",
      "  \u001b[90m[ffbed154] \u001b[39m\u001b[92m+ DocStringExtensions v0.9.3\u001b[39m\n",
      "  \u001b[90m[4f61f5a4] \u001b[39m\u001b[92m+ FFTViews v0.3.2\u001b[39m\n",
      "  \u001b[90m[7a1cc6ca] \u001b[39m\u001b[92m+ FFTW v1.7.1\u001b[39m\n",
      "  \u001b[90m[5789e2e9] \u001b[39m\u001b[92m+ FileIO v1.16.1\u001b[39m\n",
      "  \u001b[90m[53c48c17] \u001b[39m\u001b[92m+ FixedPointNumbers v0.8.4\u001b[39m\n",
      "  \u001b[90m[a2bd30eb] \u001b[39m\u001b[92m+ Graphics v1.1.2\u001b[39m\n",
      "  \u001b[90m[86223c79] \u001b[39m\u001b[92m+ Graphs v1.8.0\u001b[39m\n",
      "  \u001b[90m[2803e5a7] \u001b[39m\u001b[92m+ ImageAxes v0.6.10\u001b[39m\n",
      "  \u001b[90m[c817782e] \u001b[39m\u001b[92m+ ImageBase v0.1.5\u001b[39m\n",
      "  \u001b[90m[f332f351] \u001b[39m\u001b[92m+ ImageContrastAdjustment v0.3.10\u001b[39m\n",
      "  \u001b[90m[a09fc81d] \u001b[39m\u001b[92m+ ImageCore v0.9.4\u001b[39m\n",
      "  \u001b[90m[51556ac3] \u001b[39m\u001b[92m+ ImageDistances v0.2.16\u001b[39m\n",
      "  \u001b[90m[6a3955dd] \u001b[39m\u001b[92m+ ImageFiltering v0.7.5\u001b[39m\n",
      "  \u001b[90m[82e4d734] \u001b[39m\u001b[92m+ ImageIO v0.6.6\u001b[39m\n",
      "\u001b[32m⌃\u001b[39m \u001b[90m[6218d12a] \u001b[39m\u001b[92m+ ImageMagick v1.2.1\u001b[39m\n",
      "  \u001b[90m[bc367c6b] \u001b[39m\u001b[92m+ ImageMetadata v0.9.8\u001b[39m\n",
      "\u001b[33m⌅\u001b[39m \u001b[90m[787d08f9] \u001b[39m\u001b[92m+ ImageMorphology v0.3.2\u001b[39m\n",
      "  \u001b[90m[2996bd0c] \u001b[39m\u001b[92m+ ImageQualityIndexes v0.3.6\u001b[39m\n",
      "  \u001b[90m[80713f31] \u001b[39m\u001b[92m+ ImageSegmentation v1.8.1\u001b[39m\n",
      "  \u001b[90m[4e3cecfd] \u001b[39m\u001b[92m+ ImageShow v0.3.7\u001b[39m\n",
      "  \u001b[90m[02fcd773] \u001b[39m\u001b[92m+ ImageTransformations v0.9.5\u001b[39m\n",
      "  \u001b[90m[916415d5] \u001b[39m\u001b[92m+ Images v0.25.3\u001b[39m\n",
      "  \u001b[90m[9b13fd28] \u001b[39m\u001b[92m+ IndirectArrays v1.0.0\u001b[39m\n",
      "  \u001b[90m[d25df0c9] \u001b[39m\u001b[92m+ Inflate v0.1.3\u001b[39m\n",
      "  \u001b[90m[1d092043] \u001b[39m\u001b[92m+ IntegralArrays v0.1.5\u001b[39m\n",
      "  \u001b[90m[a98d9a8b] \u001b[39m\u001b[92m+ Interpolations v0.14.7\u001b[39m\n",
      "  \u001b[90m[8197267c] \u001b[39m\u001b[92m+ IntervalSets v0.7.4\u001b[39m\n",
      "  \u001b[90m[92d709cd] \u001b[39m\u001b[92m+ IrrationalConstants v0.2.2\u001b[39m\n",
      "  \u001b[90m[c8e1da08] \u001b[39m\u001b[92m+ IterTools v1.8.0\u001b[39m\n",
      "  \u001b[90m[033835bb] \u001b[39m\u001b[92m+ JLD2 v0.4.32\u001b[39m\n",
      "  \u001b[90m[692b3bcd] \u001b[39m\u001b[92m+ JLLWrappers v1.4.1\u001b[39m\n",
      "  \u001b[90m[b835a17e] \u001b[39m\u001b[92m+ JpegTurbo v0.1.2\u001b[39m\n",
      "  \u001b[90m[8cdb02fc] \u001b[39m\u001b[92m+ LazyModules v0.3.1\u001b[39m\n",
      "  \u001b[90m[2ab3a3ac] \u001b[39m\u001b[92m+ LogExpFunctions v0.3.24\u001b[39m\n",
      "  \u001b[90m[1914dd2f] \u001b[39m\u001b[92m+ MacroTools v0.5.10\u001b[39m\n",
      "  \u001b[90m[dbb5928d] \u001b[39m\u001b[92m+ MappedArrays v0.4.2\u001b[39m\n",
      "  \u001b[90m[626554b9] \u001b[39m\u001b[92m+ MetaGraphs v0.7.2\u001b[39m\n",
      "  \u001b[90m[e1d29d7a] \u001b[39m\u001b[92m+ Missings v1.1.0\u001b[39m\n",
      "  \u001b[90m[e94cdb99] \u001b[39m\u001b[92m+ MosaicViews v0.3.4\u001b[39m\n",
      "  \u001b[90m[77ba4419] \u001b[39m\u001b[92m+ NaNMath v1.0.2\u001b[39m\n",
      "  \u001b[90m[b8a86587] \u001b[39m\u001b[92m+ NearestNeighbors v0.4.13\u001b[39m\n",
      "  \u001b[90m[f09324ee] \u001b[39m\u001b[92m+ Netpbm v1.1.0\u001b[39m\n",
      "  \u001b[90m[6fe1bfb0] \u001b[39m\u001b[92m+ OffsetArrays v1.12.10\u001b[39m\n",
      "  \u001b[90m[52e1d378] \u001b[39m\u001b[92m+ OpenEXR v0.3.2\u001b[39m\n",
      "  \u001b[90m[bac558e1] \u001b[39m\u001b[92m+ OrderedCollections v1.6.0\u001b[39m\n",
      "  \u001b[90m[f57f5aa1] \u001b[39m\u001b[92m+ PNGFiles v0.3.17\u001b[39m\n",
      "  \u001b[90m[5432bcbf] \u001b[39m\u001b[92m+ PaddedViews v0.5.12\u001b[39m\n",
      "  \u001b[90m[d96e819e] \u001b[39m\u001b[92m+ Parameters v0.12.3\u001b[39m\n",
      "  \u001b[90m[eebad327] \u001b[39m\u001b[92m+ PkgVersion v0.3.2\u001b[39m\n",
      "  \u001b[90m[aea7be01] \u001b[39m\u001b[92m+ PrecompileTools v1.1.2\u001b[39m\n",
      "  \u001b[90m[21216c6a] \u001b[39m\u001b[92m+ Preferences v1.4.0\u001b[39m\n",
      "  \u001b[90m[92933f4c] \u001b[39m\u001b[92m+ ProgressMeter v1.7.2\u001b[39m\n",
      "  \u001b[90m[4b34888f] \u001b[39m\u001b[92m+ QOI v1.0.0\u001b[39m\n",
      "  \u001b[90m[94ee1d12] \u001b[39m\u001b[92m+ Quaternions v0.7.4\u001b[39m\n",
      "  \u001b[90m[b3c3ace0] \u001b[39m\u001b[92m+ RangeArrays v0.3.2\u001b[39m\n",
      "  \u001b[90m[c84ed2f1] \u001b[39m\u001b[92m+ Ratios v0.4.5\u001b[39m\n",
      "  \u001b[90m[c1ae055f] \u001b[39m\u001b[92m+ RealDot v0.1.0\u001b[39m\n",
      "  \u001b[90m[189a3867] \u001b[39m\u001b[92m+ Reexport v1.2.2\u001b[39m\n",
      "  \u001b[90m[dee08c22] \u001b[39m\u001b[92m+ RegionTrees v0.3.2\u001b[39m\n",
      "  \u001b[90m[ae029012] \u001b[39m\u001b[92m+ Requires v1.3.0\u001b[39m\n",
      "  \u001b[90m[6038ab10] \u001b[39m\u001b[92m+ Rotations v1.5.1\u001b[39m\n",
      "  \u001b[90m[699a6c99] \u001b[39m\u001b[92m+ SimpleTraits v0.9.4\u001b[39m\n",
      "  \u001b[90m[47aef6b3] \u001b[39m\u001b[92m+ SimpleWeightedGraphs v1.4.0\u001b[39m\n",
      "  \u001b[90m[45858cf5] \u001b[39m\u001b[92m+ Sixel v0.1.2\u001b[39m\n",
      "  \u001b[90m[66db9d55] \u001b[39m\u001b[92m+ SnoopPrecompile v1.0.3\u001b[39m\n",
      "  \u001b[90m[a2af1166] \u001b[39m\u001b[92m+ SortingAlgorithms v1.1.1\u001b[39m\n",
      "  \u001b[90m[276daf66] \u001b[39m\u001b[92m+ SpecialFunctions v2.3.0\u001b[39m\n",
      "  \u001b[90m[cae243ae] \u001b[39m\u001b[92m+ StackViews v0.1.1\u001b[39m\n",
      "  \u001b[90m[90137ffa] \u001b[39m\u001b[92m+ StaticArrays v1.6.1\u001b[39m\n",
      "  \u001b[90m[1e83bf80] \u001b[39m\u001b[92m+ StaticArraysCore v1.4.1\u001b[39m\n",
      "  \u001b[90m[82ae8749] \u001b[39m\u001b[92m+ StatsAPI v1.6.0\u001b[39m\n",
      "  \u001b[90m[2913bbd2] \u001b[39m\u001b[92m+ StatsBase v0.34.0\u001b[39m\n",
      "  \u001b[90m[62fd8b95] \u001b[39m\u001b[92m+ TensorCore v0.1.1\u001b[39m\n",
      "  \u001b[90m[731e570b] \u001b[39m\u001b[92m+ TiffImages v0.6.4\u001b[39m\n",
      "\u001b[33m⌅\u001b[39m \u001b[90m[06e1c1a7] \u001b[39m\u001b[92m+ TiledIteration v0.3.1\u001b[39m\n",
      "  \u001b[90m[3bb67fe8] \u001b[39m\u001b[92m+ TranscodingStreams v0.9.13\u001b[39m\n",
      "  \u001b[90m[3a884ed6] \u001b[39m\u001b[92m+ UnPack v1.0.2\u001b[39m\n",
      "  \u001b[90m[efce3f68] \u001b[39m\u001b[92m+ WoodburyMatrices v0.5.5\u001b[39m\n",
      "  \u001b[90m[f5851436] \u001b[39m\u001b[92m+ FFTW_jll v3.3.10+0\u001b[39m\n",
      "  \u001b[90m[61579ee1] \u001b[39m\u001b[92m+ Ghostscript_jll v9.55.0+4\u001b[39m\n",
      "\u001b[33m⌅\u001b[39m \u001b[90m[c73af94c] \u001b[39m\u001b[92m+ ImageMagick_jll v6.9.12+4\u001b[39m\n",
      "  \u001b[90m[905a6f67] \u001b[39m\u001b[92m+ Imath_jll v3.1.7+0\u001b[39m\n",
      "  \u001b[90m[1d5cc7b8] \u001b[39m\u001b[92m+ IntelOpenMP_jll v2023.1.0+0\u001b[39m\n",
      "  \u001b[90m[aacddb02] \u001b[39m\u001b[92m+ JpegTurbo_jll v2.1.91+0\u001b[39m\n",
      "  \u001b[90m[88015f11] \u001b[39m\u001b[92m+ LERC_jll v3.0.0+1\u001b[39m\n",
      "\u001b[33m⌅\u001b[39m \u001b[90m[89763e89] \u001b[39m\u001b[92m+ Libtiff_jll v4.4.0+0\u001b[39m\n",
      "  \u001b[90m[d3a379c0] \u001b[39m\u001b[92m+ LittleCMS_jll v2.12.0+0\u001b[39m\n",
      "  \u001b[90m[856f044c] \u001b[39m\u001b[92m+ MKL_jll v2023.1.0+0\u001b[39m\n",
      "  \u001b[90m[18a262bb] \u001b[39m\u001b[92m+ OpenEXR_jll v3.1.4+0\u001b[39m\n",
      "  \u001b[90m[643b3616] \u001b[39m\u001b[92m+ OpenJpeg_jll v2.4.0+0\u001b[39m\n",
      "  \u001b[90m[efe28fd5] \u001b[39m\u001b[92m+ OpenSpecFun_jll v0.5.5+0\u001b[39m\n",
      "  \u001b[90m[3161d3a3] \u001b[39m\u001b[92m+ Zstd_jll v1.5.5+0\u001b[39m\n",
      "  \u001b[90m[b53b4c65] \u001b[39m\u001b[92m+ libpng_jll v1.6.38+0\u001b[39m\n",
      "  \u001b[90m[075b6546] \u001b[39m\u001b[92m+ libsixel_jll v1.10.3+0\u001b[39m\n",
      "  \u001b[90m[0dad84c5] \u001b[39m\u001b[92m+ ArgTools v1.1.1\u001b[39m\n",
      "  \u001b[90m[56f22d72] \u001b[39m\u001b[92m+ Artifacts\u001b[39m\n",
      "  \u001b[90m[2a0f44e3] \u001b[39m\u001b[92m+ Base64\u001b[39m\n",
      "  \u001b[90m[ade2ca70] \u001b[39m\u001b[92m+ Dates\u001b[39m\n",
      "  \u001b[90m[8ba89e20] \u001b[39m\u001b[92m+ Distributed\u001b[39m\n",
      "  \u001b[90m[f43a241f] \u001b[39m\u001b[92m+ Downloads v1.6.0\u001b[39m\n",
      "  \u001b[90m[7b1f6079] \u001b[39m\u001b[92m+ FileWatching\u001b[39m\n",
      "  \u001b[90m[b77e0a4c] \u001b[39m\u001b[92m+ InteractiveUtils\u001b[39m\n",
      "  \u001b[90m[4af54fe1] \u001b[39m\u001b[92m+ LazyArtifacts\u001b[39m\n",
      "  \u001b[90m[b27032c2] \u001b[39m\u001b[92m+ LibCURL v0.6.3\u001b[39m\n",
      "  \u001b[90m[76f85450] \u001b[39m\u001b[92m+ LibGit2\u001b[39m\n",
      "  \u001b[90m[8f399da3] \u001b[39m\u001b[92m+ Libdl\u001b[39m\n",
      "  \u001b[90m[37e2e46d] \u001b[39m\u001b[92m+ LinearAlgebra\u001b[39m\n",
      "  \u001b[90m[56ddb016] \u001b[39m\u001b[92m+ Logging\u001b[39m\n",
      "  \u001b[90m[d6f4376e] \u001b[39m\u001b[92m+ Markdown\u001b[39m\n",
      "  \u001b[90m[a63ad114] \u001b[39m\u001b[92m+ Mmap\u001b[39m\n",
      "  \u001b[90m[ca575930] \u001b[39m\u001b[92m+ NetworkOptions v1.2.0\u001b[39m\n",
      "  \u001b[90m[44cfe95a] \u001b[39m\u001b[92m+ Pkg v1.9.0\u001b[39m\n",
      "  \u001b[90m[de0858da] \u001b[39m\u001b[92m+ Printf\u001b[39m\n",
      "  \u001b[90m[3fa0cd96] \u001b[39m\u001b[92m+ REPL\u001b[39m\n",
      "  \u001b[90m[9a3f8284] \u001b[39m\u001b[92m+ Random\u001b[39m\n",
      "  \u001b[90m[ea8e919c] \u001b[39m\u001b[92m+ SHA v0.7.0\u001b[39m\n",
      "  \u001b[90m[9e88b42a] \u001b[39m\u001b[92m+ Serialization\u001b[39m\n",
      "  \u001b[90m[1a1011a3] \u001b[39m\u001b[92m+ SharedArrays\u001b[39m\n",
      "  \u001b[90m[6462fe0b] \u001b[39m\u001b[92m+ Sockets\u001b[39m\n",
      "  \u001b[90m[2f01184e] \u001b[39m\u001b[92m+ SparseArrays\u001b[39m\n",
      "  \u001b[90m[10745b16] \u001b[39m\u001b[92m+ Statistics v1.9.0\u001b[39m\n",
      "  \u001b[90m[fa267f1f] \u001b[39m\u001b[92m+ TOML v1.0.3\u001b[39m\n",
      "  \u001b[90m[a4e569a6] \u001b[39m\u001b[92m+ Tar v1.10.0\u001b[39m\n",
      "  \u001b[90m[8dfed614] \u001b[39m\u001b[92m+ Test\u001b[39m\n",
      "  \u001b[90m[cf7118a7] \u001b[39m\u001b[92m+ UUIDs\u001b[39m\n",
      "  \u001b[90m[4ec0a83e] \u001b[39m\u001b[92m+ Unicode\u001b[39m\n",
      "  \u001b[90m[e66e0078] \u001b[39m\u001b[92m+ CompilerSupportLibraries_jll v1.0.2+0\u001b[39m\n",
      "  \u001b[90m[deac9b47] \u001b[39m\u001b[92m+ LibCURL_jll v7.84.0+0\u001b[39m\n",
      "  \u001b[90m[29816b5a] \u001b[39m\u001b[92m+ LibSSH2_jll v1.10.2+0\u001b[39m\n",
      "  \u001b[90m[c8ffd9c3] \u001b[39m\u001b[92m+ MbedTLS_jll v2.28.2+0\u001b[39m\n",
      "  \u001b[90m[14a3606d] \u001b[39m\u001b[92m+ MozillaCACerts_jll v2022.10.11\u001b[39m\n",
      "  \u001b[90m[4536629a] \u001b[39m\u001b[92m+ OpenBLAS_jll v0.3.21+4\u001b[39m\n",
      "  \u001b[90m[05823500] \u001b[39m\u001b[92m+ OpenLibm_jll v0.8.1+0\u001b[39m\n",
      "  \u001b[90m[bea87d4a] \u001b[39m\u001b[92m+ SuiteSparse_jll v5.10.1+6\u001b[39m\n",
      "  \u001b[90m[83775a58] \u001b[39m\u001b[92m+ Zlib_jll v1.2.13+0\u001b[39m\n",
      "  \u001b[90m[8e850b90] \u001b[39m\u001b[92m+ libblastrampoline_jll v5.8.0+0\u001b[39m\n",
      "  \u001b[90m[8e850ede] \u001b[39m\u001b[92m+ nghttp2_jll v1.48.0+0\u001b[39m\n",
      "  \u001b[90m[3f19e933] \u001b[39m\u001b[92m+ p7zip_jll v17.4.0+0\u001b[39m\n",
      "\u001b[36m\u001b[1m        Info\u001b[22m\u001b[39m Packages marked with \u001b[32m⌃\u001b[39m and \u001b[33m⌅\u001b[39m have new versions available, but those with \u001b[33m⌅\u001b[39m are restricted by compatibility constraints from upgrading. To see why use `status --outdated -m`\n",
      "\u001b[32m\u001b[1mPrecompiling\u001b[22m\u001b[39m project...\n",
      "\u001b[32m  ✓ \u001b[39m\u001b[90mImageShow\u001b[39m\n",
      "\u001b[32m  ✓ \u001b[39m\u001b[90mImageMagick_jll\u001b[39m\n",
      "\u001b[32m  ✓ \u001b[39m\u001b[90mImageMorphology\u001b[39m\n",
      "\u001b[32m  ✓ \u001b[39m\u001b[90mImageDistances\u001b[39m\n",
      "\u001b[32m  ✓ \u001b[39m\u001b[90mStaticArrays\u001b[39m\n",
      "\u001b[32m  ✓ \u001b[39m\u001b[90mImageMagick\u001b[39m\n",
      "\u001b[32m  ✓ \u001b[39m\u001b[90mCoordinateTransformations\u001b[39m\n",
      "\u001b[32m  ✓ \u001b[39m\u001b[90mStaticArrays → StaticArraysStatisticsExt\u001b[39m\n",
      "\u001b[32m  ✓ \u001b[39m\u001b[90mRotations\u001b[39m\n",
      "\u001b[32m  ✓ \u001b[39m\u001b[90mAdapt → AdaptStaticArraysExt\u001b[39m\n",
      "\u001b[32m  ✓ \u001b[39m\u001b[90mNearestNeighbors\u001b[39m\n",
      "\u001b[32m  ✓ \u001b[39m\u001b[90mArnoldiMethod\u001b[39m\n",
      "\u001b[32m  ✓ \u001b[39m\u001b[90mRegionTrees\u001b[39m\n",
      "\u001b[32m  ✓ \u001b[39m\u001b[90mInterpolations\u001b[39m\n",
      "\u001b[32m  ✓ \u001b[39m\u001b[90mClustering\u001b[39m\n",
      "\u001b[32m  ✓ \u001b[39m\u001b[90mImageTransformations\u001b[39m\n",
      "\u001b[32m  ✓ \u001b[39m\u001b[90mGraphs\u001b[39m\n",
      "\u001b[32m  ✓ \u001b[39m\u001b[90mSimpleWeightedGraphs\u001b[39m\n",
      "\u001b[32m  ✓ \u001b[39m\u001b[90mImageContrastAdjustment\u001b[39m\n",
      "\u001b[32m  ✓ \u001b[39m\u001b[90mJLD2\u001b[39m\n",
      "\u001b[32m  ✓ \u001b[39m\u001b[90mMetaGraphs\u001b[39m\n",
      "\u001b[32m  ✓ \u001b[39m\u001b[90mImageFiltering\u001b[39m\n",
      "\u001b[32m  ✓ \u001b[39m\u001b[90mImageSegmentation\u001b[39m\n",
      "\u001b[32m  ✓ \u001b[39m\u001b[90mImageQualityIndexes\u001b[39m\n",
      "\u001b[32m  ✓ \u001b[39mImages\n",
      "  25 dependencies successfully precompiled in 303 seconds. 103 already precompiled.\n"
     ]
    }
   ],
   "source": [
    "Pkg.add(\"Images\")"
   ]
  },
  {
   "cell_type": "code",
   "execution_count": 5,
   "id": "9337876a-7ebc-4238-a1b3-5e5604c5f97f",
   "metadata": {
    "tags": []
   },
   "outputs": [
    {
     "name": "stderr",
     "output_type": "stream",
     "text": [
      "\u001b[32m\u001b[1m   Resolving\u001b[22m\u001b[39m package versions...\n",
      "\u001b[32m\u001b[1m    Updating\u001b[22m\u001b[39m `C:\\Users\\lenono\\Documents\\JuliaCon23_ImageProcessingWorkshop\\Project.toml`\n",
      "  \u001b[90m[5e47fb64] \u001b[39m\u001b[92m+ TestImages v1.8.0\u001b[39m\n",
      "\u001b[32m\u001b[1m    Updating\u001b[22m\u001b[39m `C:\\Users\\lenono\\Documents\\JuliaCon23_ImageProcessingWorkshop\\Manifest.toml`\n",
      "  \u001b[90m[88034a9c] \u001b[39m\u001b[92m+ StringDistances v0.11.2\u001b[39m\n",
      "  \u001b[90m[5e47fb64] \u001b[39m\u001b[92m+ TestImages v1.8.0\u001b[39m\n",
      "\u001b[32m\u001b[1mPrecompiling\u001b[22m\u001b[39m project...\n",
      "\u001b[32m  ✓ \u001b[39mTestImages\n",
      "  1 dependency successfully precompiled in 20 seconds. 129 already precompiled.\n"
     ]
    }
   ],
   "source": [
    "Pkg.add(\"TestImages\")"
   ]
  },
  {
   "cell_type": "code",
   "execution_count": 9,
   "id": "29848b0f-0c9a-4f91-8e43-1888207693b5",
   "metadata": {
    "tags": []
   },
   "outputs": [
    {
     "name": "stderr",
     "output_type": "stream",
     "text": [
      "\u001b[32m\u001b[1m   Resolving\u001b[22m\u001b[39m package versions...\n",
      "\u001b[32m\u001b[1m    Updating\u001b[22m\u001b[39m `C:\\Users\\lenono\\Documents\\JuliaCon23_ImageProcessingWorkshop\\Project.toml`\n",
      "  \u001b[90m[e94cdb99] \u001b[39m\u001b[92m+ MosaicViews v0.3.4\u001b[39m\n",
      "\u001b[32m\u001b[1m  No Changes\u001b[22m\u001b[39m to `C:\\Users\\lenono\\Documents\\JuliaCon23_ImageProcessingWorkshop\\Manifest.toml`\n"
     ]
    }
   ],
   "source": [
    "Pkg.add(\"MosaicViews\")"
   ]
  },
  {
   "cell_type": "code",
   "execution_count": 10,
   "id": "66ee7bc3-215f-4cf5-ad30-287de2c99542",
   "metadata": {
    "tags": []
   },
   "outputs": [
    {
     "name": "stderr",
     "output_type": "stream",
     "text": [
      "\u001b[32m\u001b[1m   Resolving\u001b[22m\u001b[39m package versions...\n",
      "\u001b[32m\u001b[1m    Updating\u001b[22m\u001b[39m `C:\\Users\\lenono\\Documents\\JuliaCon23_ImageProcessingWorkshop\\Project.toml`\n",
      "  \u001b[90m[150eb455] \u001b[39m\u001b[92m+ CoordinateTransformations v0.6.3\u001b[39m\n",
      "\u001b[32m\u001b[1m  No Changes\u001b[22m\u001b[39m to `C:\\Users\\lenono\\Documents\\JuliaCon23_ImageProcessingWorkshop\\Manifest.toml`\n"
     ]
    }
   ],
   "source": [
    "Pkg.add(\"CoordinateTransformations\")"
   ]
  },
  {
   "cell_type": "code",
   "execution_count": 11,
   "id": "d49c7be5-2629-44bf-acc3-2e5a1e0da112",
   "metadata": {
    "tags": []
   },
   "outputs": [
    {
     "name": "stderr",
     "output_type": "stream",
     "text": [
      "\u001b[32m\u001b[1m   Resolving\u001b[22m\u001b[39m package versions...\n",
      "\u001b[32m\u001b[1m    Updating\u001b[22m\u001b[39m `C:\\Users\\lenono\\Documents\\JuliaCon23_ImageProcessingWorkshop\\Project.toml`\n",
      "  \u001b[90m[02fcd773] \u001b[39m\u001b[92m+ ImageTransformations v0.9.5\u001b[39m\n",
      "\u001b[32m\u001b[1m  No Changes\u001b[22m\u001b[39m to `C:\\Users\\lenono\\Documents\\JuliaCon23_ImageProcessingWorkshop\\Manifest.toml`\n"
     ]
    }
   ],
   "source": [
    "Pkg.add(\"ImageTransformations\")"
   ]
  },
  {
   "cell_type": "code",
   "execution_count": 12,
   "id": "a5cdd160-cc46-4079-8f14-4d69d4caca72",
   "metadata": {
    "tags": []
   },
   "outputs": [
    {
     "name": "stderr",
     "output_type": "stream",
     "text": [
      "\u001b[32m\u001b[1m   Resolving\u001b[22m\u001b[39m package versions...\n",
      "\u001b[32m\u001b[1m   Installed\u001b[22m\u001b[39m ImageBinarization ─ v0.2.9\n",
      "\u001b[32m\u001b[1m    Updating\u001b[22m\u001b[39m `C:\\Users\\lenono\\Documents\\JuliaCon23_ImageProcessingWorkshop\\Project.toml`\n",
      "  \u001b[90m[cbc4b850] \u001b[39m\u001b[92m+ ImageBinarization v0.2.9\u001b[39m\n",
      "\u001b[32m\u001b[1m    Updating\u001b[22m\u001b[39m `C:\\Users\\lenono\\Documents\\JuliaCon23_ImageProcessingWorkshop\\Manifest.toml`\n",
      "  \u001b[90m[2c695a8d] \u001b[39m\u001b[92m+ HistogramThresholding v0.3.1\u001b[39m\n",
      "  \u001b[90m[cbc4b850] \u001b[39m\u001b[92m+ ImageBinarization v0.2.9\u001b[39m\n",
      "  \u001b[90m[f27b6e38] \u001b[39m\u001b[92m+ Polynomials v3.2.13\u001b[39m\n",
      "  \u001b[90m[3cdcf5f2] \u001b[39m\u001b[92m+ RecipesBase v1.3.4\u001b[39m\n",
      "\u001b[32m\u001b[1mPrecompiling\u001b[22m\u001b[39m project...\n",
      "\u001b[32m  ✓ \u001b[39m\u001b[90mHistogramThresholding\u001b[39m\n",
      "\u001b[32m  ✓ \u001b[39m\u001b[90mPolynomials\u001b[39m\n",
      "\u001b[32m  ✓ \u001b[39m\u001b[90mPolynomials → PolynomialsChainRulesCoreExt\u001b[39m\n",
      "\u001b[32m  ✓ \u001b[39mImageBinarization\n",
      "  4 dependencies successfully precompiled in 77 seconds. 131 already precompiled.\n"
     ]
    }
   ],
   "source": [
    "Pkg.add(\"ImageBinarization\")"
   ]
  },
  {
   "cell_type": "code",
   "execution_count": 14,
   "id": "973a798b-d767-4bd3-92bf-53823bad182f",
   "metadata": {
    "tags": []
   },
   "outputs": [
    {
     "name": "stderr",
     "output_type": "stream",
     "text": [
      "\u001b[32m\u001b[1m   Resolving\u001b[22m\u001b[39m package versions...\n",
      "\u001b[32m\u001b[1m   Installed\u001b[22m\u001b[39m OCReract ─ v1.3.0\n",
      "\u001b[32m\u001b[1m    Updating\u001b[22m\u001b[39m `C:\\Users\\lenono\\Documents\\JuliaCon23_ImageProcessingWorkshop\\Project.toml`\n",
      "  \u001b[90m[c9880795] \u001b[39m\u001b[92m+ OCReract v1.3.0\u001b[39m\n",
      "\u001b[32m\u001b[1m    Updating\u001b[22m\u001b[39m `C:\\Users\\lenono\\Documents\\JuliaCon23_ImageProcessingWorkshop\\Manifest.toml`\n",
      "  \u001b[90m[c9880795] \u001b[39m\u001b[92m+ OCReract v1.3.0\u001b[39m\n",
      "\u001b[32m\u001b[1mPrecompiling\u001b[22m\u001b[39m project...\n",
      "\u001b[32m  ✓ \u001b[39mOCReract\n",
      "  1 dependency successfully precompiled in 18 seconds. 135 already precompiled.\n",
      "  \u001b[33m1\u001b[39m dependency had warnings during precompilation:\u001b[33m\n",
      "┌ \u001b[39mOCReract [c9880795-194d-450c-832d-1e8a03a8ecd1]\u001b[33m\n",
      "│  \u001b[39m\u001b[91m\u001b[1m┌ \u001b[22m\u001b[39m\u001b[91m\u001b[1mError: \u001b[22m\u001b[39mTesseract is not properly installed. Command tesseract not recognized\u001b[33m\n",
      "│  \u001b[39m\u001b[91m\u001b[1m└ \u001b[22m\u001b[39m\u001b[90m@ OCReract C:\\Users\\lenono\\.julia\\packages\\OCReract\\scjW5\\src\\tesseract.jl:18\u001b[39m\u001b[33m\n",
      "│  \u001b[39m\u001b[91m\u001b[1m┌ \u001b[22m\u001b[39m\u001b[91m\u001b[1mError: \u001b[22m\u001b[39mException while generating log record in module OCReract at C:\\Users\\lenono\\.julia\\packages\\OCReract\\scjW5\\src\\tesseract.jl:31\u001b[33m\n",
      "│  \u001b[39m\u001b[91m\u001b[1m│ \u001b[22m\u001b[39m  exception =\u001b[33m\n",
      "│  \u001b[39m\u001b[91m\u001b[1m│ \u001b[22m\u001b[39m   IOError: could not spawn `tesseract --version`: no such file or directory (ENOENT)\u001b[33m\n",
      "│  \u001b[39m\u001b[91m\u001b[1m│ \u001b[22m\u001b[39m   Stacktrace:\u001b[33m\n",
      "│  \u001b[39m\u001b[91m\u001b[1m│ \u001b[22m\u001b[39m     [1] \u001b[0m\u001b[1m_spawn_primitive\u001b[22m\u001b[0m\u001b[1m(\u001b[22m\u001b[90mfile\u001b[39m::\u001b[0mString, \u001b[90mcmd\u001b[39m::\u001b[0mCmd, \u001b[90mstdio\u001b[39m::\u001b[0mVector\u001b[90m{Union{RawFD, Base.Libc.WindowsRawSocket, IO}}\u001b[39m\u001b[0m\u001b[1m)\u001b[22m\u001b[33m\n",
      "│  \u001b[39m\u001b[91m\u001b[1m│ \u001b[22m\u001b[39m   \u001b[90m    @\u001b[39m \u001b[90mBase\u001b[39m \u001b[90m.\\\u001b[39m\u001b[90m\u001b[4mprocess.jl:128\u001b[24m\u001b[39m\u001b[33m\n",
      "│  \u001b[39m\u001b[91m\u001b[1m│ \u001b[22m\u001b[39m     [2] \u001b[0m\u001b[1m#760\u001b[22m\u001b[33m\n",
      "│  \u001b[39m\u001b[91m\u001b[1m│ \u001b[22m\u001b[39m   \u001b[90m    @\u001b[39m \u001b[90m.\\\u001b[39m\u001b[90m\u001b[4mprocess.jl:139\u001b[24m\u001b[39m\u001b[90m [inlined]\u001b[39m\u001b[33m\n",
      "│  \u001b[39m\u001b[91m\u001b[1m│ \u001b[22m\u001b[39m     [3] \u001b[0m\u001b[1msetup_stdios\u001b[22m\u001b[0m\u001b[1m(\u001b[22m\u001b[90mf\u001b[39m::\u001b[0mBase.var\"#760#761\"\u001b[90m{Cmd}\u001b[39m, \u001b[90mstdios\u001b[39m::\u001b[0mVector\u001b[90m{Union{RawFD, Base.Libc.WindowsRawSocket, IO}}\u001b[39m\u001b[0m\u001b[1m)\u001b[22m\u001b[33m\n",
      "│  \u001b[39m\u001b[91m\u001b[1m│ \u001b[22m\u001b[39m   \u001b[90m    @\u001b[39m \u001b[90mBase\u001b[39m \u001b[90m.\\\u001b[39m\u001b[90m\u001b[4mprocess.jl:223\u001b[24m\u001b[39m\u001b[33m\n",
      "│  \u001b[39m\u001b[91m\u001b[1m│ \u001b[22m\u001b[39m     [4] \u001b[0m\u001b[1m_spawn\u001b[22m\u001b[33m\n",
      "│  \u001b[39m\u001b[91m\u001b[1m│ \u001b[22m\u001b[39m   \u001b[90m    @\u001b[39m \u001b[90m.\\\u001b[39m\u001b[90m\u001b[4mprocess.jl:138\u001b[24m\u001b[39m\u001b[90m [inlined]\u001b[39m\u001b[33m\n",
      "│  \u001b[39m\u001b[91m\u001b[1m│ \u001b[22m\u001b[39m     [5] \u001b[0m\u001b[1mopen\u001b[22m\u001b[0m\u001b[1m(\u001b[22m\u001b[90mcmds\u001b[39m::\u001b[0mCmd, \u001b[90mstdio\u001b[39m::\u001b[0mBase.DevNull; \u001b[90mwrite\u001b[39m::\u001b[0mBool, \u001b[90mread\u001b[39m::\u001b[0mBool\u001b[0m\u001b[1m)\u001b[22m\u001b[33m\n",
      "│  \u001b[39m\u001b[91m\u001b[1m│ \u001b[22m\u001b[39m   \u001b[90m    @\u001b[39m \u001b[90mBase\u001b[39m \u001b[90m.\\\u001b[39m\u001b[90m\u001b[4mprocess.jl:393\u001b[24m\u001b[39m\u001b[33m\n",
      "│  \u001b[39m\u001b[91m\u001b[1m│ \u001b[22m\u001b[39m     [6] \u001b[0m\u001b[1mopen\u001b[22m\u001b[33m\n",
      "│  \u001b[39m\u001b[91m\u001b[1m│ \u001b[22m\u001b[39m   \u001b[90m    @\u001b[39m \u001b[90m.\\\u001b[39m\u001b[90m\u001b[4mprocess.jl:383\u001b[24m\u001b[39m\u001b[90m [inlined]\u001b[39m\u001b[33m\n",
      "│  \u001b[39m\u001b[91m\u001b[1m│ \u001b[22m\u001b[39m     [7] \u001b[0m\u001b[1mopen\u001b[22m\u001b[0m\u001b[1m(\u001b[22m\u001b[90mcmds\u001b[39m::\u001b[0mCmd, \u001b[90mmode\u001b[39m::\u001b[0mString, \u001b[90mstdio\u001b[39m::\u001b[0mBase.DevNull\u001b[0m\u001b[1m)\u001b[22m\u001b[33m\n",
      "│  \u001b[39m\u001b[91m\u001b[1m│ \u001b[22m\u001b[39m   \u001b[90m    @\u001b[39m \u001b[90mBase\u001b[39m \u001b[90m.\\\u001b[39m\u001b[90m\u001b[4mprocess.jl:364\u001b[24m\u001b[39m\u001b[33m\n",
      "│  \u001b[39m\u001b[91m\u001b[1m│ \u001b[22m\u001b[39m     [8] \u001b[0m\u001b[1mread\u001b[22m\u001b[0m\u001b[1m(\u001b[22m\u001b[90mcmd\u001b[39m::\u001b[0mCmd\u001b[0m\u001b[1m)\u001b[22m\u001b[33m\n",
      "│  \u001b[39m\u001b[91m\u001b[1m│ \u001b[22m\u001b[39m   \u001b[90m    @\u001b[39m \u001b[90mBase\u001b[39m \u001b[90m.\\\u001b[39m\u001b[90m\u001b[4mprocess.jl:447\u001b[24m\u001b[39m\u001b[33m\n",
      "│  \u001b[39m\u001b[91m\u001b[1m│ \u001b[22m\u001b[39m     [9] \u001b[0m\u001b[1mread\u001b[22m\u001b[33m\n",
      "│  \u001b[39m\u001b[91m\u001b[1m│ \u001b[22m\u001b[39m   \u001b[90m    @\u001b[39m \u001b[90m.\\\u001b[39m\u001b[90m\u001b[4mprocess.jl:458\u001b[24m\u001b[39m\u001b[90m [inlined]\u001b[39m\u001b[33m\n",
      "│  \u001b[39m\u001b[91m\u001b[1m│ \u001b[22m\u001b[39m    [10] \u001b[0m\u001b[1mget_tesseract_version\u001b[22m\u001b[0m\u001b[1m(\u001b[22m\u001b[0m\u001b[1m)\u001b[22m\u001b[33m\n",
      "│  \u001b[39m\u001b[91m\u001b[1m│ \u001b[22m\u001b[39m   \u001b[90m    @\u001b[39m \u001b[35mOCReract\u001b[39m \u001b[90mC:\\Users\\lenono\\.julia\\packages\\OCReract\\scjW5\\src\\\u001b[39m\u001b[90m\u001b[4mtesseract.jl:26\u001b[24m\u001b[39m\u001b[33m\n",
      "│  \u001b[39m\u001b[91m\u001b[1m│ \u001b[22m\u001b[39m    [11] top-level scope\u001b[33m\n",
      "│  \u001b[39m\u001b[91m\u001b[1m│ \u001b[22m\u001b[39m   \u001b[90m    @\u001b[39m \u001b[90m\u001b[4mlogging.jl:360\u001b[24m\u001b[39m\u001b[33m\n",
      "│  \u001b[39m\u001b[91m\u001b[1m│ \u001b[22m\u001b[39m    [12] \u001b[0m\u001b[1minclude\u001b[22m\u001b[0m\u001b[1m(\u001b[22m\u001b[90mmod\u001b[39m::\u001b[0mModule, \u001b[90m_path\u001b[39m::\u001b[0mString\u001b[0m\u001b[1m)\u001b[22m\u001b[33m\n",
      "│  \u001b[39m\u001b[91m\u001b[1m│ \u001b[22m\u001b[39m   \u001b[90m    @\u001b[39m \u001b[90mBase\u001b[39m \u001b[90m.\\\u001b[39m\u001b[90m\u001b[4mBase.jl:457\u001b[24m\u001b[39m\u001b[33m\n",
      "│  \u001b[39m\u001b[91m\u001b[1m│ \u001b[22m\u001b[39m    [13] \u001b[0m\u001b[1minclude\u001b[22m\u001b[0m\u001b[1m(\u001b[22m\u001b[90mx\u001b[39m::\u001b[0mString\u001b[0m\u001b[1m)\u001b[22m\u001b[33m\n",
      "│  \u001b[39m\u001b[91m\u001b[1m│ \u001b[22m\u001b[39m   \u001b[90m    @\u001b[39m \u001b[35mOCReract\u001b[39m \u001b[90mC:\\Users\\lenono\\.julia\\packages\\OCReract\\scjW5\\src\\\u001b[39m\u001b[90m\u001b[4mOCReract.jl:1\u001b[24m\u001b[39m\u001b[33m\n",
      "│  \u001b[39m\u001b[91m\u001b[1m│ \u001b[22m\u001b[39m    [14] top-level scope\u001b[33m\n",
      "│  \u001b[39m\u001b[91m\u001b[1m│ \u001b[22m\u001b[39m   \u001b[90m    @\u001b[39m \u001b[90mC:\\Users\\lenono\\.julia\\packages\\OCReract\\scjW5\\src\\\u001b[39m\u001b[90m\u001b[4mOCReract.jl:6\u001b[24m\u001b[39m\u001b[33m\n",
      "│  \u001b[39m\u001b[91m\u001b[1m│ \u001b[22m\u001b[39m    [15] \u001b[0m\u001b[1minclude\u001b[22m\u001b[33m\n",
      "│  \u001b[39m\u001b[91m\u001b[1m│ \u001b[22m\u001b[39m   \u001b[90m    @\u001b[39m \u001b[90m.\\\u001b[39m\u001b[90m\u001b[4mBase.jl:457\u001b[24m\u001b[39m\u001b[90m [inlined]\u001b[39m\u001b[33m\n",
      "│  \u001b[39m\u001b[91m\u001b[1m│ \u001b[22m\u001b[39m    [16] \u001b[0m\u001b[1minclude_package_for_output\u001b[22m\u001b[0m\u001b[1m(\u001b[22m\u001b[90mpkg\u001b[39m::\u001b[0mBase.PkgId, \u001b[90minput\u001b[39m::\u001b[0mString, \u001b[90mdepot_path\u001b[39m::\u001b[0mVector\u001b[90m{String}\u001b[39m, \u001b[90mdl_load_path\u001b[39m::\u001b[0mVector\u001b[90m{String}\u001b[39m, \u001b[90mload_path\u001b[39m::\u001b[0mVector\u001b[90m{String}\u001b[39m, \u001b[90mconcrete_deps\u001b[39m::\u001b[0mVector\u001b[90m{Pair{Base.PkgId, UInt128}}\u001b[39m, \u001b[90msource\u001b[39m::\u001b[0mNothing\u001b[0m\u001b[1m)\u001b[22m\u001b[33m\n",
      "│  \u001b[39m\u001b[91m\u001b[1m│ \u001b[22m\u001b[39m   \u001b[90m    @\u001b[39m \u001b[90mBase\u001b[39m \u001b[90m.\\\u001b[39m\u001b[90m\u001b[4mloading.jl:2045\u001b[24m\u001b[39m\u001b[33m\n",
      "│  \u001b[39m\u001b[91m\u001b[1m│ \u001b[22m\u001b[39m    [17] top-level scope\u001b[33m\n",
      "│  \u001b[39m\u001b[91m\u001b[1m│ \u001b[22m\u001b[39m   \u001b[90m    @\u001b[39m \u001b[90m\u001b[4mstdin:3\u001b[24m\u001b[39m\u001b[33m\n",
      "│  \u001b[39m\u001b[91m\u001b[1m│ \u001b[22m\u001b[39m    [18] \u001b[0m\u001b[1meval\u001b[22m\u001b[33m\n",
      "│  \u001b[39m\u001b[91m\u001b[1m│ \u001b[22m\u001b[39m   \u001b[90m    @\u001b[39m \u001b[90m.\\\u001b[39m\u001b[90m\u001b[4mboot.jl:370\u001b[24m\u001b[39m\u001b[90m [inlined]\u001b[39m\u001b[33m\n",
      "│  \u001b[39m\u001b[91m\u001b[1m│ \u001b[22m\u001b[39m    [19] \u001b[0m\u001b[1minclude_string\u001b[22m\u001b[0m\u001b[1m(\u001b[22m\u001b[90mmapexpr\u001b[39m::\u001b[0mtypeof(identity), \u001b[90mmod\u001b[39m::\u001b[0mModule, \u001b[90mcode\u001b[39m::\u001b[0mString, \u001b[90mfilename\u001b[39m::\u001b[0mString\u001b[0m\u001b[1m)\u001b[22m\u001b[33m\n",
      "│  \u001b[39m\u001b[91m\u001b[1m│ \u001b[22m\u001b[39m   \u001b[90m    @\u001b[39m \u001b[90mBase\u001b[39m \u001b[90m.\\\u001b[39m\u001b[90m\u001b[4mloading.jl:1899\u001b[24m\u001b[39m\u001b[33m\n",
      "│  \u001b[39m\u001b[91m\u001b[1m│ \u001b[22m\u001b[39m    [20] \u001b[0m\u001b[1minclude_string\u001b[22m\u001b[33m\n",
      "│  \u001b[39m\u001b[91m\u001b[1m│ \u001b[22m\u001b[39m   \u001b[90m    @\u001b[39m \u001b[90m.\\\u001b[39m\u001b[90m\u001b[4mloading.jl:1909\u001b[24m\u001b[39m\u001b[90m [inlined]\u001b[39m\u001b[33m\n",
      "│  \u001b[39m\u001b[91m\u001b[1m│ \u001b[22m\u001b[39m    [21] \u001b[0m\u001b[1mexec_options\u001b[22m\u001b[0m\u001b[1m(\u001b[22m\u001b[90mopts\u001b[39m::\u001b[0mBase.JLOptions\u001b[0m\u001b[1m)\u001b[22m\u001b[33m\n",
      "│  \u001b[39m\u001b[91m\u001b[1m│ \u001b[22m\u001b[39m   \u001b[90m    @\u001b[39m \u001b[90mBase\u001b[39m \u001b[90m.\\\u001b[39m\u001b[90m\u001b[4mclient.jl:305\u001b[24m\u001b[39m\u001b[33m\n",
      "│  \u001b[39m\u001b[91m\u001b[1m│ \u001b[22m\u001b[39m    [22] \u001b[0m\u001b[1m_start\u001b[22m\u001b[0m\u001b[1m(\u001b[22m\u001b[0m\u001b[1m)\u001b[22m\u001b[33m\n",
      "│  \u001b[39m\u001b[91m\u001b[1m│ \u001b[22m\u001b[39m   \u001b[90m    @\u001b[39m \u001b[90mBase\u001b[39m \u001b[90m.\\\u001b[39m\u001b[90m\u001b[4mclient.jl:522\u001b[24m\u001b[39m\u001b[33m\n",
      "│  \u001b[39m\u001b[91m\u001b[1m└ \u001b[22m\u001b[39m\u001b[90m@ OCReract C:\\Users\\lenono\\.julia\\packages\\OCReract\\scjW5\\src\\tesseract.jl:31\u001b[39m\u001b[33m\n",
      "└  \u001b[39m\n"
     ]
    }
   ],
   "source": [
    "Pkg.add(\"OCReract\")"
   ]
  },
  {
   "cell_type": "code",
   "execution_count": null,
   "id": "3d7c1578-da37-4697-a35e-42ffba3eddaa",
   "metadata": {},
   "outputs": [],
   "source": []
  }
 ],
 "metadata": {
  "kernelspec": {
   "display_name": "Julia 1.9.0-beta4",
   "language": "julia",
   "name": "julia-1.9"
  },
  "language_info": {
   "file_extension": ".jl",
   "mimetype": "application/julia",
   "name": "julia",
   "version": "1.9.1"
  }
 },
 "nbformat": 4,
 "nbformat_minor": 5
}
