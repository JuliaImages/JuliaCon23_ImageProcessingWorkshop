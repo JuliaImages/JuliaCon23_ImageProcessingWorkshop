{
 "cells": [
  {
   "cell_type": "code",
   "execution_count": null,
   "id": "17c6201f-1d1d-4861-8d0a-fd4485f61656",
   "metadata": {},
   "outputs": [],
   "source": []
  }
 ],
 "metadata": {
  "kernelspec": {
   "display_name": "Julia 1.9.0-beta4",
   "language": "julia",
   "name": "julia-1.9"
  },
  "language_info": {
   "file_extension": ".jl",
   "mimetype": "application/julia",
   "name": "julia",
   "version": "1.9.1"
  }
 },
 "nbformat": 4,
 "nbformat_minor": 5
}
