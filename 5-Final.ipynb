{
 "cells": [
  {
   "cell_type": "markdown",
   "id": "4e8dc997-11e1-4b94-80e9-e7d4af4010f7",
   "metadata": {},
   "source": [
    "# Other topics\n",
    "\n",
    "[JuliaImages](https://github.com/JuliaImages) and the rest of the Julia ecosystem have a lot more to offer than what we've covered today. Here are some other topics you might want to learn on your own someday (* indicates repositories already bundled in Images.jl):\n",
    "\n",
    "## Image annotation\n",
    "\n",
    "- *[ImageMetadata](https://github.com/JuliaImages/ImageMetadata.jl) bundles an array with a `Dict`, allowing you to associate arbitrary metadata with each image. This can be useful if image-processing is just part of a larger pipeline that requires additional context.\n",
    "- *[ImageAxes](https://github.com/JuliaImages/ImageAxes.jl) allows you to \"name\" axes of a multidimensional array; you can, for example, tag one axis as a `:time` dimension. ImageCore has traits that make it easy to write algorithms that do different things for the spatial and temporal dimensions.\n",
    "- [ImageDraw](https://github.com/JuliaImages/ImageDraw.jl) lets you decorate images, rendering directly into the array data of the image\n",
    "\n",
    "## Image similarity and image quality\n",
    "\n",
    "- *[ImageDistances](https://github.com/JuliaImages/ImageDistances.jl) provides metrics for comparing two images\n",
    "- *[ImageQualityIndexes](https://github.com/JuliaImages/ImageQualityIndexes.jl) provides algorithms for estimating the signal-to-noise ratio in an image\n",
    "\n",
    "## Computer vision\n",
    "\n",
    "- [ImageFeatures](https://github.com/JuliaImages/ImageFeatures.jl) provides several different facilities, including:\n",
    "  + keypoint detection and matching\n",
    "  + object detection with Histogram-of-Gradient (HOG) features.\n",
    "  + texture operations with Gray Level Co-occurence Matrices (GLCM) and Local Binary Patterns (LBP)\n",
    "\n",
    "## Biomedical/hyperspectral imaging\n",
    "\n",
    "- [MultiChannelColors](https://github.com/JuliaImages/MultiChannelColors.jl) provides utilities for fluorescent dyes and other unconventional \"color\" imaging\n",
    "- Image reconstruction with [MIRT.jl](https://github.com/JeffFessler/MIRT.jl) (not JuliaImages)\n",
    "\n",
    "\n",
    "# Final thoughts\n",
    "\n",
    "We hope you've learned something and had fun! Don't hesitate to give critical feedback or submit issues/PRs about documentation, bugs, or other things you'd like to improve in JuliaImages!"
   ]
  },
  {
   "cell_type": "markdown",
   "id": "7316c528",
   "metadata": {},
   "source": []
  }
 ],
 "metadata": {
  "kernelspec": {
   "display_name": "Julia 1.9.0-beta4",
   "language": "julia",
   "name": "julia-1.9"
  },
  "language_info": {
   "file_extension": ".jl",
   "mimetype": "application/julia",
   "name": "julia",
   "version": "1.9.1"
  }
 },
 "nbformat": 4,
 "nbformat_minor": 5
}
