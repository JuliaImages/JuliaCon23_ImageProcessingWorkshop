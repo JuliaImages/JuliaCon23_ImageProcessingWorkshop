{
 "cells": [
  {
   "cell_type": "markdown",
   "id": "f4518676-87bf-4bbc-aa5f-aeab650d9ab4",
   "metadata": {},
   "source": [
    "# Object Detection using HOG\n",
    "In this tutorial, we will use Histogram of Oriented Gradient (HOG) feature descriptor based linear SVM to create a person detector. We will first create a person classifier and then use this classifier with a sliding window to identify and localize people in an image.\n",
    "\n",
    "The key challenge in creating a classifier is that it needs to work with variations in illumination, pose and occlusions in the image. To achieve this, we will train the classifier on an intermediate representation of the image instead of the pixel-based representation. Our ideal representation (commonly called feature vector) captures information which is useful for classification but is invariant to small changes in illumination and occlusions. HOG descriptor is a gradient-based representation which is invariant to local geometric and photometric changes (i.e. shape and illumination changes) and so is a good choice for our problem. In fact HOG descriptors are widely used for object detection.\n",
    "\n",
    "Download the script to get the training data here. Download tutorial.zip, decompress it and run getdata.bash. (Change the variable `pathtotutorial` in preprocess.jl and path to julia executable in getdata.bash). This script will download the required datasets. We will start by loading the data and computing HOG features of all the images."
   ]
  },
  {
   "cell_type": "code",
   "execution_count": 1,
   "id": "3045c445-fe96-4186-9c06-65203903ebfd",
   "metadata": {
    "tags": []
   },
   "outputs": [],
   "source": [
    " using Images"
   ]
  },
  {
   "cell_type": "code",
   "execution_count": null,
   "id": "54259afd-6ef4-430f-98fb-43917aeabc44",
   "metadata": {},
   "outputs": [],
   "source": [
    "path_to_tutorial = \"assets\"    # specify this path\n",
    "pos_examples = \"$path_to_tutorial/tutorial/humans/\"\n",
    "neg_examples = \"$path_to_tutorial/tutorial/not_humans/\"\n",
    "\n",
    "n_pos = length(readdir(pos_examples))   # number of positive training examples\n",
    "n_neg = length(readdir(neg_examples))   # number of negative training examples\n",
    "n = n_pos + n_neg                       # number of training examples\n",
    "data = Array{Float64}(undef, 3780, n)   # Array to store HOG descriptor of each image. Each image in our training data has size 128x64 and so has a 3780 length\n",
    "labels = Vector{Int}(undef, n)          # Vector to store label (1=human, 0=not human) of each image.\n",
    "\n",
    "for (i, file) in enumerate([readdir(pos_examples); readdir(neg_examples)])\n",
    "    filename = \"$(i <= n_pos ? pos_examples : neg_examples )/$file\"\n",
    "    img = load(filename)\n",
    "    data[:, i] = create_descriptor(img, HOG())\n",
    "    labels[i] = (i <= n_pos ? 1 : 0)\n",
    "end"
   ]
  }
 ],
 "metadata": {
  "kernelspec": {
   "display_name": "Julia 1.9.0-beta4",
   "language": "julia",
   "name": "julia-1.9"
  },
  "language_info": {
   "file_extension": ".jl",
   "mimetype": "application/julia",
   "name": "julia",
   "version": "1.9.1"
  }
 },
 "nbformat": 4,
 "nbformat_minor": 5
}
