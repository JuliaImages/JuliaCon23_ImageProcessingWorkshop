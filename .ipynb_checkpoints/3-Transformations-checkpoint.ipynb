{
 "cells": [
  {
   "cell_type": "markdown",
   "id": "9ccb836e-5a57-4b0e-801d-6f76cd00f50c",
   "metadata": {},
   "source": [
    "# Image Transformation\n",
    "\n",
    "Image transformation is used here to refer to the process of altering the appearance or content of an image using various mathematical and algorithmic techniques. This section talks about contrast related methods, geometric transformations, morphological operations."
   ]
  },
  {
   "cell_type": "markdown",
   "id": "a8584926-422f-4e09-be6f-d705f7a0fb02",
   "metadata": {
    "tags": []
   },
   "source": [
    "## Morphological Operations\n",
    "\n",
    "Morphological image processing is an area of computer vision which pursues to remove imperfections from binary and grayscale images.\n",
    "\n",
    "Images.jl utilizese ImageMorphology.jl to provide support morphological functions. ImageMorphology.jl holds a collection of non-linear operations related to the shape or morphology of features in an image."
   ]
  },
  {
   "cell_type": "code",
   "execution_count": 1,
   "id": "7b352047-26c3-4536-af74-fa9e22b6223a",
   "metadata": {
    "tags": []
   },
   "outputs": [
    {
     "name": "stderr",
     "output_type": "stream",
     "text": [
      "\u001b[32m\u001b[1m  Activating\u001b[22m\u001b[39m project at `C:\\Users\\lenono\\Documents\\StudyCode\\JuliaCon23_ImageProcessingWorkshop`\n"
     ]
    }
   ],
   "source": [
    "using Pkg\n",
    "Pkg.activate(\".\")\n",
    "Pkg.instantiate()"
   ]
  },
  {
   "cell_type": "markdown",
   "id": "88f05974-fbb9-4e3c-bd3d-a7806fac7b9c",
   "metadata": {},
   "source": [
    "# Introduction"
   ]
  },
  {
   "cell_type": "code",
   "execution_count": 11,
   "id": "ffaef276-24ef-4907-acfa-894f4a140fee",
   "metadata": {
    "tags": []
   },
   "outputs": [],
   "source": [
    "using Images, TestImages"
   ]
  },
  {
   "cell_type": "code",
   "execution_count": 55,
   "id": "3fd7723e-aa37-4497-94e7-270730a0d4cb",
   "metadata": {
    "tags": []
   },
   "outputs": [
    {
     "data": {
      "image/png": "[encoded data removed]",
      "text/html": [
       "<img src=\"data:image/png;base64,iVBORw0KGgoAAAANSUhEUgAAAGQAAABkCAAAAABVicqIAAAABGdBTUEAALGPC/xhBQAAAAFzUkdCAK7OHOkAAAAgY0hSTQAAeiYAAICEAAD6AAAAgOgAAHUwAADqYAAAOpgAABdwnLpRPAAAAKlJREFUaAW9wcEJACAMwMAUsv/KukHxIbmTgAQkIAEJSEACEpCABCQgAQlIQAISkIAEJCABCUhAAhKQgAQkIAEJSEBWhzfDRgISkIAEJCABCUhAAhKQgAQkIAEJSEACEpCABCQgAQlIQAISkIAEJCABCUhAAhKQgAQkIAEJyGr4QQISkIAEJCABCUhAAhKQgAQkIAEJSEACEpCABCQgAQlIQAISkIAEJHAB1vECklYxHi8AAAAASUVORK5C\">"
      ],
      "text/plain": [
       "10×10 Array{Gray{Float64},2} with eltype Gray{Float64}:\n",
       " Gray{Float64}(0.0)  Gray{Float64}(0.0)  …  Gray{Float64}(0.0)\n",
       " Gray{Float64}(0.0)  Gray{Float64}(0.0)     Gray{Float64}(0.0)\n",
       " Gray{Float64}(0.0)  Gray{Float64}(0.0)     Gray{Float64}(0.0)\n",
       " Gray{Float64}(0.0)  Gray{Float64}(0.0)     Gray{Float64}(0.0)\n",
       " Gray{Float64}(0.0)  Gray{Float64}(0.0)     Gray{Float64}(0.0)\n",
       " Gray{Float64}(0.0)  Gray{Float64}(0.0)  …  Gray{Float64}(0.0)\n",
       " Gray{Float64}(0.0)  Gray{Float64}(0.0)     Gray{Float64}(0.0)\n",
       " Gray{Float64}(0.0)  Gray{Float64}(0.0)     Gray{Float64}(0.0)\n",
       " Gray{Float64}(0.0)  Gray{Float64}(0.0)     Gray{Float64}(0.0)\n",
       " Gray{Float64}(0.0)  Gray{Float64}(0.0)     Gray{Float64}(0.0)"
      ]
     },
     "execution_count": 55,
     "metadata": {},
     "output_type": "execute_result"
    }
   ],
   "source": [
    "img = zeros(10, 10); img[4:7, 4:7] .= 1.; \n",
    "img = Gray.(img)"
   ]
  },
  {
   "cell_type": "markdown",
   "id": "369c02cb-81c4-4992-887b-f96eccb6fc43",
   "metadata": {},
   "source": [
    "# Erosion\n",
    "Erode performs a min-filter over its nearest-neighbors. The default is 8-connectivity in 2d, 27-connectivity in 3d, etc. You can specify the list of dimensions that you want to include in the connectivity, e.g., region = [1,2] would exclude the third dimension from filtering."
   ]
  },
  {
   "cell_type": "code",
   "execution_count": 56,
   "id": "65fa8acd-2f65-429c-85f7-8b394eb4176c",
   "metadata": {
    "tags": []
   },
   "outputs": [
    {
     "data": {
      "image/png": "[encoded data removed]",
      "text/html": [
       "<img src=\"data:image/png;base64,iVBORw0KGgoAAAANSUhEUgAAAJMAAABGCAAAAADtfflVAAAABGdBTUEAALGPC/xhBQAAAAFzUkdCAK7OHOkAAAAgY0hSTQAAeiYAAICEAAD6AAAAgOgAAHUwAADqYAAAOpgAABdwnLpRPAAAAJdJREFUaAXNwTEKgDAAwMAU8nB/ruDkoOBQa+5kio3TxgzSIz3SIz3SIz3SIz3SIz3SIz3SIz3SIz3SIz3SIz1yZ+fZ4GvSIz3SIz3SIz2yys7V4Jn0SI/0SI/0SI/0SI/0SI/0SI/0yCqDt6RHeqRHeqRHeuTO4E/SIz3SIz3SIz3SIz3SIz3SIz3SIz3SIz3SIz3SIz0HBu8EGzdMA3AAAAAASUVORK5C\">"
      ],
      "text/plain": [
       "10×21 MosaicView{Gray{Float64}, 4, Base.ReshapedArray{Gray{Float64}, 4, PaddedView{Gray{Float64}, 3, Tuple{Base.OneTo{Int64}, Base.OneTo{Int64}, Base.OneTo{Int64}}, StackViews.StackView{Gray{Float64}, 3, 3, Tuple{OffsetArrays.OffsetMatrix{Gray{Float64}, PaddedView{Gray{Float64}, 2, Tuple{Base.IdentityUnitRange{UnitRange{Int64}}, Base.IdentityUnitRange{UnitRange{Int64}}}, Matrix{Gray{Float64}}}}, OffsetArrays.OffsetMatrix{Gray{Float64}, PaddedView{Gray{Float64}, 2, Tuple{Base.IdentityUnitRange{UnitRange{Int64}}, Base.IdentityUnitRange{UnitRange{Int64}}}, Matrix{Gray{Float64}}}}}}}, Tuple{Base.MultiplicativeInverses.SignedMultiplicativeInverse{Int64}, Base.MultiplicativeInverses.SignedMultiplicativeInverse{Int64}}}}:\n",
       " Gray{Float64}(0.0)  Gray{Float64}(0.0)  …  Gray{Float64}(0.0)\n",
       " Gray{Float64}(0.0)  Gray{Float64}(0.0)     Gray{Float64}(0.0)\n",
       " Gray{Float64}(0.0)  Gray{Float64}(0.0)     Gray{Float64}(0.0)\n",
       " Gray{Float64}(0.0)  Gray{Float64}(0.0)     Gray{Float64}(0.0)\n",
       " Gray{Float64}(0.0)  Gray{Float64}(0.0)     Gray{Float64}(0.0)\n",
       " Gray{Float64}(0.0)  Gray{Float64}(0.0)  …  Gray{Float64}(0.0)\n",
       " Gray{Float64}(0.0)  Gray{Float64}(0.0)     Gray{Float64}(0.0)\n",
       " Gray{Float64}(0.0)  Gray{Float64}(0.0)     Gray{Float64}(0.0)\n",
       " Gray{Float64}(0.0)  Gray{Float64}(0.0)     Gray{Float64}(0.0)\n",
       " Gray{Float64}(0.0)  Gray{Float64}(0.0)     Gray{Float64}(0.0)"
      ]
     },
     "execution_count": 56,
     "metadata": {},
     "output_type": "execute_result"
    }
   ],
   "source": [
    "img_erode = erode(img)\n",
    "mosaic(img, img_erode; nrow = 1, fillvalue=.5, npad=1)"
   ]
  },
  {
   "cell_type": "markdown",
   "id": "27d308c7-3714-41ff-aa05-bc0cdffeb6ba",
   "metadata": {
    "tags": []
   },
   "source": [
    "# Dilation\n",
    "Dilate performs a max-filter over its nearest-neighbors"
   ]
  },
  {
   "cell_type": "code",
   "execution_count": 57,
   "id": "a9b9c51d-c4f0-4aae-9d4f-143946c198bb",
   "metadata": {
    "tags": []
   },
   "outputs": [
    {
     "data": {
      "image/png": "[encoded data removed]",
      "text/html": [
       "<img src=\"data:image/png;base64,iVBORw0KGgoAAAANSUhEUgAAAJMAAABGCAAAAADtfflVAAAABGdBTUEAALGPC/xhBQAAAAFzUkdCAK7OHOkAAAAgY0hSTQAAeiYAAICEAAD6AAAAgOgAAHUwAADqYAAAOpgAABdwnLpRPAAAAJdJREFUaAXNwUEKgDAAwLAO+vD9XMGTBwURh03kE5PD5AvSIz3SIz3SIz3SIz3SIz3SIz3SI+tsPDU4kx7pkR7pkR7pkSsb9warSY/0SI/0SI/0SI/0SI/0SI/0SI/0SI/0SI/0SI/0SI/0SI/0SI/0SI9cGfxJeqRHeqRHeqRH1hm8Iz3SIz3SIz3SIz3SIz3SIz3SIz07JUEEG4v8WsMAAAAASUVORK5C\">"
      ],
      "text/plain": [
       "10×21 MosaicView{Gray{Float64}, 4, Base.ReshapedArray{Gray{Float64}, 4, PaddedView{Gray{Float64}, 3, Tuple{Base.OneTo{Int64}, Base.OneTo{Int64}, Base.OneTo{Int64}}, StackViews.StackView{Gray{Float64}, 3, 3, Tuple{OffsetArrays.OffsetMatrix{Gray{Float64}, PaddedView{Gray{Float64}, 2, Tuple{Base.IdentityUnitRange{UnitRange{Int64}}, Base.IdentityUnitRange{UnitRange{Int64}}}, Matrix{Gray{Float64}}}}, OffsetArrays.OffsetMatrix{Gray{Float64}, PaddedView{Gray{Float64}, 2, Tuple{Base.IdentityUnitRange{UnitRange{Int64}}, Base.IdentityUnitRange{UnitRange{Int64}}}, Matrix{Gray{Float64}}}}}}}, Tuple{Base.MultiplicativeInverses.SignedMultiplicativeInverse{Int64}, Base.MultiplicativeInverses.SignedMultiplicativeInverse{Int64}}}}:\n",
       " Gray{Float64}(0.0)  Gray{Float64}(0.0)  …  Gray{Float64}(0.0)\n",
       " Gray{Float64}(0.0)  Gray{Float64}(0.0)     Gray{Float64}(0.0)\n",
       " Gray{Float64}(0.0)  Gray{Float64}(0.0)     Gray{Float64}(0.0)\n",
       " Gray{Float64}(0.0)  Gray{Float64}(0.0)     Gray{Float64}(0.0)\n",
       " Gray{Float64}(0.0)  Gray{Float64}(0.0)     Gray{Float64}(0.0)\n",
       " Gray{Float64}(0.0)  Gray{Float64}(0.0)  …  Gray{Float64}(0.0)\n",
       " Gray{Float64}(0.0)  Gray{Float64}(0.0)     Gray{Float64}(0.0)\n",
       " Gray{Float64}(0.0)  Gray{Float64}(0.0)     Gray{Float64}(0.0)\n",
       " Gray{Float64}(0.0)  Gray{Float64}(0.0)     Gray{Float64}(0.0)\n",
       " Gray{Float64}(0.0)  Gray{Float64}(0.0)     Gray{Float64}(0.0)"
      ]
     },
     "execution_count": 57,
     "metadata": {},
     "output_type": "execute_result"
    }
   ],
   "source": [
    "img_dilate = dilate(img)\n",
    "mosaic(img, img_dilate; nrow = 1, fillvalue=.5, npad=1)"
   ]
  },
  {
   "cell_type": "markdown",
   "id": "0a14ee1c-7956-4151-a4b4-8e019804ecf4",
   "metadata": {},
   "source": [
    "# Opening\n",
    "Opening morphology operation is equivalent to dilate(erode(img)). In opening(img, [region]), region allows you to control the dimensions over which this operation is performed. Opening can remove small bright spots (i.e. “salt”) and connect small dark cracks."
   ]
  },
  {
   "cell_type": "code",
   "execution_count": 88,
   "id": "7362701f-17d6-4741-968e-fc86f817de72",
   "metadata": {
    "tags": []
   },
   "outputs": [
    {
     "name": "stderr",
     "output_type": "stream",
     "text": [
      "\u001b[36m\u001b[1m┌ \u001b[22m\u001b[39m\u001b[36m\u001b[1mInfo: \u001b[22m\u001b[39mimg:\n",
      "\u001b[36m\u001b[1m│ \u001b[22m\u001b[39m  img =\n",
      "\u001b[36m\u001b[1m│ \u001b[22m\u001b[39m   5×5 Matrix{Float64}:\n",
      "\u001b[36m\u001b[1m│ \u001b[22m\u001b[39m    1.0  0.0  0.0  0.0  0.0\n",
      "\u001b[36m\u001b[1m│ \u001b[22m\u001b[39m    0.0  0.0  0.0  0.0  0.0\n",
      "\u001b[36m\u001b[1m│ \u001b[22m\u001b[39m    0.0  0.0  1.0  1.0  1.0\n",
      "\u001b[36m\u001b[1m│ \u001b[22m\u001b[39m    0.0  0.0  1.0  1.0  1.0\n",
      "\u001b[36m\u001b[1m└ \u001b[22m\u001b[39m    0.0  0.0  1.0  1.0  1.0\n"
     ]
    },
    {
     "data": {
      "image/png": "[encoded data removed]",
      "text/html": [
       "<img src=\"data:image/png;base64,iVBORw0KGgoAAAANSUhEUgAAAGQAAABkCAAAAABVicqIAAAABGdBTUEAALGPC/xhBQAAAAFzUkdCAK7OHOkAAAAgY0hSTQAAeiYAAICEAAD6AAAAgOgAAHUwAADqYAAAOpgAABdwnLpRPAAAAKlJREFUaAW9wcENABAAwMBKuv/KDOAjQu+c7AZvSUACEpCABCQgAQlIQAISkIAEJCABCUhAAhJw8J8EJCABCUhAAhKQgAQkIAEJSEACEpCABCQgATk0uScBCUhAAhKQgAQkIAEJSEACEpCABCQgAQlIQAISkIAEJCABCUhAAhKQgAQkIAEJSEACEpCABCQgAQlIQAISkIAEJCABCUhAAhKQgAQkIAEJSGABTHYDkUqF2KwAAAAASUVORK5C\">"
      ],
      "text/plain": [
       "5×5 Array{Gray{Float64},2} with eltype Gray{Float64}:\n",
       " Gray{Float64}(1.0)  Gray{Float64}(0.0)  …  Gray{Float64}(0.0)\n",
       " Gray{Float64}(0.0)  Gray{Float64}(0.0)     Gray{Float64}(0.0)\n",
       " Gray{Float64}(0.0)  Gray{Float64}(0.0)     Gray{Float64}(1.0)\n",
       " Gray{Float64}(0.0)  Gray{Float64}(0.0)     Gray{Float64}(1.0)\n",
       " Gray{Float64}(0.0)  Gray{Float64}(0.0)     Gray{Float64}(1.0)"
      ]
     },
     "execution_count": 88,
     "metadata": {},
     "output_type": "execute_result"
    }
   ],
   "source": [
    "img = zeros(5, 5); img[1, 1] = 1.; img[3:5, 3:5] .= 1.; \n",
    "@info \"img:\" img\n",
    "Gray.(img)"
   ]
  },
  {
   "cell_type": "code",
   "execution_count": 87,
   "id": "c5b7e354-f414-4fa0-a077-a77285088122",
   "metadata": {
    "tags": []
   },
   "outputs": [
    {
     "name": "stderr",
     "output_type": "stream",
     "text": [
      "\u001b[36m\u001b[1m┌ \u001b[22m\u001b[39m\u001b[36m\u001b[1mInfo: \u001b[22m\u001b[39mopening:\n",
      "\u001b[36m\u001b[1m│ \u001b[22m\u001b[39m  opening(img) =\n",
      "\u001b[36m\u001b[1m│ \u001b[22m\u001b[39m   5×5 Matrix{Float64}:\n",
      "\u001b[36m\u001b[1m│ \u001b[22m\u001b[39m    0.0  0.0  0.0  0.0  0.0\n",
      "\u001b[36m\u001b[1m│ \u001b[22m\u001b[39m    0.0  0.0  0.0  0.0  0.0\n",
      "\u001b[36m\u001b[1m│ \u001b[22m\u001b[39m    0.0  0.0  1.0  1.0  1.0\n",
      "\u001b[36m\u001b[1m│ \u001b[22m\u001b[39m    0.0  0.0  1.0  1.0  1.0\n",
      "\u001b[36m\u001b[1m└ \u001b[22m\u001b[39m    0.0  0.0  1.0  1.0  1.0\n"
     ]
    },
    {
     "data": {
      "image/png": "[encoded data removed]",
      "text/html": [
       "<img src=\"data:image/png;base64,iVBORw0KGgoAAAANSUhEUgAAAGQAAABkCAAAAABVicqIAAAABGdBTUEAALGPC/xhBQAAAAFzUkdCAK7OHOkAAAAgY0hSTQAAeiYAAICEAAD6AAAAgOgAAHUwAADqYAAAOpgAABdwnLpRPAAAAKNJREFUaAW9wTENAAAIwLAd828ZLBCOtRKQgAQkIAEJSEACEpCABCQgAQlIQAISkIAEJCABCUhAAhKQgAQkIAEJSEACEpCABCQgAQlIQAJyNPxJQAISkIAEJCABCUhAAhKQgAQkIAEJSEACEpCABCQgAQlIQAISkIAEJCABCUhAAhKQgAQkIAEJSEACEpCABCQgAQlIQAISkIAEJCABCUhAAhJYt6MCkDIN4I0AAAAASUVORK5C\">"
      ],
      "text/plain": [
       "5×5 Array{Gray{Float64},2} with eltype Gray{Float64}:\n",
       " Gray{Float64}(0.0)  Gray{Float64}(0.0)  …  Gray{Float64}(0.0)\n",
       " Gray{Float64}(0.0)  Gray{Float64}(0.0)     Gray{Float64}(0.0)\n",
       " Gray{Float64}(0.0)  Gray{Float64}(0.0)     Gray{Float64}(1.0)\n",
       " Gray{Float64}(0.0)  Gray{Float64}(0.0)     Gray{Float64}(1.0)\n",
       " Gray{Float64}(0.0)  Gray{Float64}(0.0)     Gray{Float64}(1.0)"
      ]
     },
     "execution_count": 87,
     "metadata": {},
     "output_type": "execute_result"
    }
   ],
   "source": [
    "@info \"opening:\" opening(img)\n",
    "Gray.(opening(img))"
   ]
  },
  {
   "cell_type": "markdown",
   "id": "0e9acd58-aa9e-41e6-a54e-eab17a02730c",
   "metadata": {},
   "source": [
    "# Closing\n",
    "Closing morphology operation is equivalent to erode(dilate(img)). In closing(img, [region]), region allows you to control the dimensions over which this operation is performed. Closing can remove small dark spots (i.e. “pepper”) and connect small bright cracks."
   ]
  },
  {
   "cell_type": "code",
   "execution_count": 92,
   "id": "078b332d-6314-424a-804c-fed2b33bf7e7",
   "metadata": {
    "tags": []
   },
   "outputs": [
    {
     "data": {
      "image/png": "[encoded data removed]",
      "text/html": [
       "<img src=\"data:image/png;base64,iVBORw0KGgoAAAANSUhEUgAAAGkAAABpCAAAAAAc6VLmAAAABGdBTUEAALGPC/xhBQAAAAFzUkdCAK7OHOkAAAAgY0hSTQAAeiYAAICEAAD6AAAAgOgAAHUwAADqYAAAOpgAABdwnLpRPAAAALdJREFUaAW9wUEKwDAMwDAX/P8vZ+ddChnDklSkIhWpSEUqUpGKVKQiFalIRSpSkYpUpCIVqUhFKlKRilSkIhWpSEUqcjUsHG6kIhWpSEUqUpGKVKQiFalIRSpSkY3Dy7AgFalIRSpSkYpUpCIVqUhFKlKRimwM30lFKlKRilSkIhWpSEUqUpGKVKQiV4ffSEUqUpGKVKQiFalIRSpSkYpUpCIVqUhFKlKRilSkIhWpSEUqUpGKVB4qrwSlYW+mzwAAAABJRU5ErkJg\">"
      ],
      "text/plain": [
       "7×7 Array{Gray{Float64},2} with eltype Gray{Float64}:\n",
       " Gray{Float64}(0.0)  Gray{Float64}(0.0)  …  Gray{Float64}(0.0)\n",
       " Gray{Float64}(0.0)  Gray{Float64}(0.0)     Gray{Float64}(0.0)\n",
       " Gray{Float64}(0.0)  Gray{Float64}(0.0)     Gray{Float64}(0.0)\n",
       " Gray{Float64}(0.0)  Gray{Float64}(0.0)     Gray{Float64}(0.0)\n",
       " Gray{Float64}(0.0)  Gray{Float64}(0.0)     Gray{Float64}(0.0)\n",
       " Gray{Float64}(0.0)  Gray{Float64}(0.0)  …  Gray{Float64}(0.0)\n",
       " Gray{Float64}(0.0)  Gray{Float64}(0.0)     Gray{Float64}(0.0)"
      ]
     },
     "execution_count": 92,
     "metadata": {},
     "output_type": "execute_result"
    }
   ],
   "source": [
    "img = zeros(7, 7); img[3:5, 3:5] .= 1.; img[4, 4] = 0.; img\n",
    "Gray.(img)"
   ]
  },
  {
   "cell_type": "code",
   "execution_count": 93,
   "id": "d72a5bc8-8d41-4aa8-bc4c-bcdb7ed076cd",
   "metadata": {
    "tags": []
   },
   "outputs": [
    {
     "name": "stderr",
     "output_type": "stream",
     "text": [
      "\u001b[36m\u001b[1m┌ \u001b[22m\u001b[39m\u001b[36m\u001b[1mInfo: \u001b[22m\u001b[39mresult:\n",
      "\u001b[36m\u001b[1m│ \u001b[22m\u001b[39m  closing(img) =\n",
      "\u001b[36m\u001b[1m│ \u001b[22m\u001b[39m   7×7 Matrix{Float64}:\n",
      "\u001b[36m\u001b[1m│ \u001b[22m\u001b[39m    0.0  0.0  0.0  0.0  0.0  0.0  0.0\n",
      "\u001b[36m\u001b[1m│ \u001b[22m\u001b[39m    0.0  0.0  0.0  0.0  0.0  0.0  0.0\n",
      "\u001b[36m\u001b[1m│ \u001b[22m\u001b[39m    0.0  0.0  1.0  1.0  1.0  0.0  0.0\n",
      "\u001b[36m\u001b[1m│ \u001b[22m\u001b[39m    0.0  0.0  1.0  1.0  1.0  0.0  0.0\n",
      "\u001b[36m\u001b[1m│ \u001b[22m\u001b[39m    0.0  0.0  1.0  1.0  1.0  0.0  0.0\n",
      "\u001b[36m\u001b[1m│ \u001b[22m\u001b[39m    0.0  0.0  0.0  0.0  0.0  0.0  0.0\n",
      "\u001b[36m\u001b[1m└ \u001b[22m\u001b[39m    0.0  0.0  0.0  0.0  0.0  0.0  0.0\n"
     ]
    },
    {
     "data": {
      "image/png": "[encoded data removed]",
      "text/html": [
       "<img src=\"data:image/png;base64,iVBORw0KGgoAAAANSUhEUgAAAGkAAABpCAAAAAAc6VLmAAAABGdBTUEAALGPC/xhBQAAAAFzUkdCAK7OHOkAAAAgY0hSTQAAeiYAAICEAAD6AAAAgOgAAHUwAADqYAAAOpgAABdwnLpRPAAAAK9JREFUaAW9wYEJACAMwLAO+v/L+sFAkCZSkYpUpCIVqUhFKlKRilSkIhWpSEUqUpGKVKQiFalIRSpSkYpUpCIVqcjq8GDYSEUqUpGKVKQiFalIRSpSkYpUpCIVqUhFKlKRilSkIhWpSEUqUpGKVKQiFalIRSpSkYpUpCIVqUhFKlKRiqyGb6QiFalIRSpSkYpUpCIVqUhFKlKRilSkIhWpSEUqUpGKVKQiFalIRSoXK48CpspuptcAAAAASUVORK5C\">"
      ],
      "text/plain": [
       "7×7 Array{Gray{Float64},2} with eltype Gray{Float64}:\n",
       " Gray{Float64}(0.0)  Gray{Float64}(0.0)  …  Gray{Float64}(0.0)\n",
       " Gray{Float64}(0.0)  Gray{Float64}(0.0)     Gray{Float64}(0.0)\n",
       " Gray{Float64}(0.0)  Gray{Float64}(0.0)     Gray{Float64}(0.0)\n",
       " Gray{Float64}(0.0)  Gray{Float64}(0.0)     Gray{Float64}(0.0)\n",
       " Gray{Float64}(0.0)  Gray{Float64}(0.0)     Gray{Float64}(0.0)\n",
       " Gray{Float64}(0.0)  Gray{Float64}(0.0)  …  Gray{Float64}(0.0)\n",
       " Gray{Float64}(0.0)  Gray{Float64}(0.0)     Gray{Float64}(0.0)"
      ]
     },
     "execution_count": 93,
     "metadata": {},
     "output_type": "execute_result"
    }
   ],
   "source": [
    "@info \"result:\" closing(img)\n",
    "Gray.(closing(img))"
   ]
  },
  {
   "cell_type": "markdown",
   "id": "783d4b14-bae8-4250-9dea-df291a690747",
   "metadata": {},
   "source": [
    "# Tophat\n",
    "Tophat is defined as the image minus its morphological opening. In tophat(img, [region]), region allows you to control the dimensions over which this operation is performed. This operation returns the bright spots of the image that are smaller than the structuring element."
   ]
  },
  {
   "cell_type": "code",
   "execution_count": 97,
   "id": "0c905d0c-c12b-4383-a8e1-b1c8ea31f5ce",
   "metadata": {
    "tags": []
   },
   "outputs": [
    {
     "data": {
      "text/plain": [
       "5×5 Matrix{Float64}:\n",
       " 1.0  0.0  0.0  0.0  0.0\n",
       " 0.0  0.0  0.0  0.0  0.0\n",
       " 0.0  0.0  1.0  1.0  1.0\n",
       " 0.0  0.0  1.0  1.0  1.0\n",
       " 0.0  0.0  1.0  1.0  1.0"
      ]
     },
     "execution_count": 97,
     "metadata": {},
     "output_type": "execute_result"
    }
   ],
   "source": [
    "img = zeros(5, 5); img[1, 1] = 1.; img[3:5, 3:5] .= 1.; img"
   ]
  },
  {
   "cell_type": "code",
   "execution_count": 98,
   "id": "d3742f53-0531-4db7-91dd-7c76ade2fdbc",
   "metadata": {
    "tags": []
   },
   "outputs": [
    {
     "data": {
      "text/plain": [
       "5×5 Matrix{Float64}:\n",
       " 1.0  0.0  0.0  0.0  0.0\n",
       " 0.0  0.0  0.0  0.0  0.0\n",
       " 0.0  0.0  0.0  0.0  0.0\n",
       " 0.0  0.0  0.0  0.0  0.0\n",
       " 0.0  0.0  0.0  0.0  0.0"
      ]
     },
     "execution_count": 98,
     "metadata": {},
     "output_type": "execute_result"
    }
   ],
   "source": [
    "tophat(img)"
   ]
  },
  {
   "cell_type": "markdown",
   "id": "6698ba49-f99b-48c1-8192-a4394a33ca2c",
   "metadata": {},
   "source": [
    "# Bottom Hat\n",
    "Bottom Hat morphology operation is defined as image's morphological closing minus the original image. In bothat(img, [region]), region allows you to control the dimensions over which this operation is performed. This operation returns the dark spots of the image that are smaller than the structuring element."
   ]
  },
  {
   "cell_type": "code",
   "execution_count": 104,
   "id": "06ce12fb-a717-4424-88de-a3d6b78f7d54",
   "metadata": {
    "tags": []
   },
   "outputs": [
    {
     "data": {
      "text/plain": [
       "7×7 Matrix{Float64}:\n",
       " 0.0  0.0  0.0  0.0  0.0  0.0  0.0\n",
       " 0.0  0.0  0.0  0.0  0.0  0.0  0.0\n",
       " 0.0  0.0  1.0  1.0  1.0  0.0  0.0\n",
       " 0.0  0.0  1.0  0.0  1.0  0.0  0.0\n",
       " 0.0  0.0  1.0  1.0  1.0  0.0  0.0\n",
       " 0.0  0.0  0.0  0.0  0.0  0.0  0.0\n",
       " 0.0  0.0  0.0  0.0  0.0  0.0  0.0"
      ]
     },
     "execution_count": 104,
     "metadata": {},
     "output_type": "execute_result"
    }
   ],
   "source": [
    "img = zeros(7, 7); img[3:5, 3:5] .= 1.; img[4, 4] = 0.; img"
   ]
  },
  {
   "cell_type": "code",
   "execution_count": 105,
   "id": "507ee012-657a-4385-aa91-e9c30a0b0f3f",
   "metadata": {
    "tags": []
   },
   "outputs": [
    {
     "data": {
      "text/plain": [
       "7×7 Matrix{Float64}:\n",
       " 0.0  0.0  0.0  0.0  0.0  0.0  0.0\n",
       " 0.0  0.0  0.0  0.0  0.0  0.0  0.0\n",
       " 0.0  0.0  0.0  0.0  0.0  0.0  0.0\n",
       " 0.0  0.0  0.0  1.0  0.0  0.0  0.0\n",
       " 0.0  0.0  0.0  0.0  0.0  0.0  0.0\n",
       " 0.0  0.0  0.0  0.0  0.0  0.0  0.0\n",
       " 0.0  0.0  0.0  0.0  0.0  0.0  0.0"
      ]
     },
     "execution_count": 105,
     "metadata": {},
     "output_type": "execute_result"
    }
   ],
   "source": [
    "bothat(img)"
   ]
  },
  {
   "cell_type": "markdown",
   "id": "5bcc687d-36d2-4f96-bdc2-78de417c63c5",
   "metadata": {},
   "source": [
    "### Check out the examples for more: https://juliaimages.org/latest/examples/"
   ]
  }
 ],
 "metadata": {
  "kernelspec": {
   "display_name": "Julia 1.9.0-beta4",
   "language": "julia",
   "name": "julia-1.9"
  },
  "language_info": {
   "file_extension": ".jl",
   "mimetype": "application/julia",
   "name": "julia",
   "version": "1.9.1"
  }
 },
 "nbformat": 4,
 "nbformat_minor": 5
}
